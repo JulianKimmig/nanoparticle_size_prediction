{
 "cells": [
  {
   "cell_type": "code",
   "execution_count": 5,
   "metadata": {
    "collapsed": true
   },
   "outputs": [],
   "source": [
    "import sys\n",
    "import os\n",
    "import cairosvg\n",
    "from IPython.core.display import display, Markdown\n",
    "from PIL import Image\n",
    "from json_dict import JsonDict\n",
    "from featurizer import FeaturizerList\n",
    "sys.path.append(os.path.abspath(\"..\"))\n",
    "from featurizer.chem_featurizer import default_atom_featurizer, atom_degree_one_hot, \\\n",
    "    atom_symbol_hcnopsclbr_other_one_hot, atom_implicit_valence_one_hot, atom_formal_charge, atom_partial_charge, \\\n",
    "    atom_hybridization_one_hot, atom_is_aromatic, atom_total_num_H_one_hot, atom_mass, atom_num_radical_electrons\n",
    "\n",
    "\n",
    "from rdkit import Chem\n",
    "import numpy as np"
   ]
  },
  {
   "cell_type": "code",
   "execution_count": 2,
   "outputs": [
    {
     "name": "stdout",
     "output_type": "stream",
     "text": [
      "[CH2]1[C](C)(C(=O)OC)[CH2][C](C)(C(=O)OC)[CH2][C](C)(C(=O)OC)[CH2][C](C)(C(=O)OC)[CH2][C](C)(C(=O)OC)[CH2][C](C)(C(=O)OC)[CH2][C](C)(C(=O)OC)[CH2][C](C)(C(=O)OC)[CH2][C](C)(C(=O)OC)[CH2][C](C)(C(=O)OC)1\n",
      "[CH2][C](C)(C(=O)OC)\n"
     ]
    },
    {
     "data": {
      "text/plain": "<rdkit.Chem.rdchem.Mol at 0x7f8f58525300>",
      "image/png": "[encoded data removed]"
     },
     "execution_count": 2,
     "metadata": {},
     "output_type": "execute_result"
    }
   ],
   "source": [
    "repeating_unit_smiles=\"[CH2][C](C)(C(=O)OC)\"\n",
    "NRU=10\n",
    "\n",
    "s=repeating_unit_smiles.replace(\"]\",\"]1\",1) + repeating_unit_smiles*(NRU-1) +\"1\"\n",
    "print(s)\n",
    "mol = Chem.MolFromSmiles(s)\n",
    "Chem.Draw.MolToImage(mol).save(\"gc_circ.png\")\n",
    "\n",
    "s = repeating_unit_smiles\n",
    "print(s)\n",
    "mol = Chem.MolFromSmiles(s)\n",
    "for atom in mol.GetAtoms():\n",
    "    atom.SetProp('atomLabel',str(atom.GetIdx()))\n",
    "Chem.Draw.MolToImage(mol).save(\"gc_one_number.png\")\n",
    "mol"
   ],
   "metadata": {
    "collapsed": false,
    "pycharm": {
     "name": "#%%\n"
    }
   }
  },
  {
   "cell_type": "code",
   "execution_count": 7,
   "outputs": [
    {
     "name": "stdout",
     "output_type": "stream",
     "text": [
      "atom_symbol_hcnopsclbr_other_one_hot [False  True False False False False False False False]\n",
      "atom_degree_one_hot [False  True False False False False False False]\n",
      "atom_degree_one_hot [False  True False False False False False False]\n",
      "atom_implicit_valence_one_hot [False False False  True False False False False]\n",
      "atom_formal_charge [0]\n",
      "atom_partial_charge [0.08060857]\n",
      "atom_hybridization_one_hot [False False  True False False False False False]\n",
      "atom_is_aromatic [False]\n",
      "atom_total_num_H_one_hot [False False False  True False False False False False]\n",
      "atom_mass [0.12011]\n",
      "atom_num_radical_electrons [0]\n"
     ]
    },
    {
     "data": {
      "text/plain": "array([0.        , 1.        , 0.        , 0.        , 0.        ,\n       0.        , 0.        , 0.        , 0.        , 0.        ,\n       1.        , 0.        , 0.        , 0.        , 0.        ,\n       0.        , 0.        , 0.        , 1.        , 0.        ,\n       0.        , 0.        , 0.        , 0.        , 0.        ,\n       0.        , 0.        , 0.        , 1.        , 0.        ,\n       0.        , 0.        , 0.        , 0.        , 0.08060857,\n       0.        , 0.        , 1.        , 0.        , 0.        ,\n       0.        , 0.        , 0.        , 0.        , 0.        ,\n       0.        , 0.        , 1.        , 0.        , 0.        ,\n       0.        , 0.        , 0.        , 0.12011   , 0.        ])"
     },
     "execution_count": 7,
     "metadata": {},
     "output_type": "execute_result"
    }
   ],
   "source": [
    "featurizer = FeaturizerList([atom_symbol_hcnopsclbr_other_one_hot,\n",
    " atom_degree_one_hot,\n",
    " atom_degree_one_hot,\n",
    " atom_implicit_valence_one_hot,\n",
    " atom_formal_charge,\n",
    " atom_partial_charge,\n",
    " atom_hybridization_one_hot,\n",
    " atom_is_aromatic,\n",
    " atom_total_num_H_one_hot,\n",
    " atom_mass,\n",
    " atom_num_radical_electrons,\n",
    " ])\n",
    "\n",
    "for f in featurizer._feature_list:\n",
    "    print(f,np.array(f(mol.GetAtomWithIdx(6))))\n",
    "np.array(featurizer(mol.GetAtomWithIdx(6)))"
   ],
   "metadata": {
    "collapsed": false,
    "pycharm": {
     "name": "#%%\n"
    }
   }
  },
  {
   "cell_type": "code",
   "execution_count": 3,
   "outputs": [],
   "source": [],
   "metadata": {
    "collapsed": false,
    "pycharm": {
     "name": "#%%\n"
    }
   }
  }
 ],
 "metadata": {
  "kernelspec": {
   "display_name": "Python 3",
   "language": "python",
   "name": "python3"
  },
  "language_info": {
   "codemirror_mode": {
    "name": "ipython",
    "version": 2
   },
   "file_extension": ".py",
   "mimetype": "text/x-python",
   "name": "python",
   "nbconvert_exporter": "python",
   "pygments_lexer": "ipython2",
   "version": "2.7.6"
  }
 },
 "nbformat": 4,
 "nbformat_minor": 0
}