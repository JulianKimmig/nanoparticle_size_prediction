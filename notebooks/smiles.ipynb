{
 "cells": [
  {
   "cell_type": "code",
   "execution_count": 6,
   "metadata": {
    "collapsed": true
   },
   "outputs": [],
   "source": [
    "from rdkit import Chem\n",
    "\n",
    "canonical = \"[CH2][C](C)C(=O)OC\"\n",
    "repeating_unit_smiles = \"[CH2][C](C)(C(=O)OC)\"\n",
    "NRU = 4"
   ]
  },
  {
   "cell_type": "code",
   "execution_count": 17,
   "metadata": {
    "collapsed": false,
    "pycharm": {
     "name": "#%%\n"
    }
   },
   "outputs": [
    {
     "name": "stdout",
     "output_type": "stream",
     "text": [
      "[CH2][C](C)(C(=O)OC)\n",
      "[CH2][C](C)C(=O)OC\n",
      "[CH2][C](C)(C(=O)OC)[CH2][C](C)(C(=O)OC)\n",
      "[CH2][C](C)C(=O)OC[CH2][C](C)C(=O)OC\n",
      "[CH2][C](C)(C(=O)OC)[CH2][C](C)(C(=O)OC)[CH2][C](C)(C(=O)OC)[CH2][C](C)(C(=O)OC)\n",
      "[CH2][C](C)C(=O)OC[CH2][C](C)C(=O)OC[CH2][C](C)C(=O)OC[CH2][C](C)C(=O)OC\n",
      "[CH2]1[C](C)(C(=O)OC)[CH2][C](C)(C(=O)OC)[CH2][C](C)(C(=O)OC)[CH2][C](C)(C(=O)OC)[CH2][C](C)(C(=O)OC)[CH2][C](C)(C(=O)OC)1\n"
     ]
    }
   ],
   "source": [
    "s = repeating_unit_smiles * 1\n",
    "print(s)\n",
    "Chem.Draw.MolToImage(Chem.MolFromSmiles(s)).save(\"smiles_single_ru.png\")\n",
    "\n",
    "s = canonical * 1\n",
    "print(s)\n",
    "Chem.Draw.MolToImage(Chem.MolFromSmiles(s)).save(\"smiles_canonical_single_ru.png\")\n",
    "\n",
    "s = repeating_unit_smiles * 2\n",
    "print(s)\n",
    "Chem.Draw.MolToImage(Chem.MolFromSmiles(s)).save(\"smiles_two_ru.png\")\n",
    "\n",
    "s = canonical * 2\n",
    "print(s)\n",
    "Chem.Draw.MolToImage(Chem.MolFromSmiles(s)).save(\"smiles_canonical_two_ru.png\")\n",
    "\n",
    "\n",
    "s = repeating_unit_smiles * NRU\n",
    "print(s)\n",
    "Chem.Draw.MolToImage(Chem.MolFromSmiles(s)).save(\"smiles_multiple_ru.png\")\n",
    "\n",
    "s = canonical * NRU\n",
    "print(s)\n",
    "Chem.Draw.MolToImage(Chem.MolFromSmiles(s)).save(\"smiles_canonical_multiple_ru.png\")\n",
    "\n",
    "\n",
    "s = repeating_unit_smiles.replace(\"]\", \"]1\", 1) + repeating_unit_smiles * 5 + \"1\"\n",
    "print(s)\n",
    "Chem.Draw.MolToImage(Chem.MolFromSmiles(s)).save(\"smiles_cicle.png\")"
   ]
  },
  {
   "cell_type": "code",
   "execution_count": null,
   "metadata": {
    "collapsed": false,
    "pycharm": {
     "name": "#%%\n"
    }
   },
   "outputs": [],
   "source": []
  }
 ],
 "metadata": {
  "kernelspec": {
   "display_name": "Python 3",
   "language": "python",
   "name": "python3"
  },
  "language_info": {
   "codemirror_mode": {
    "name": "ipython",
    "version": 2
   },
   "file_extension": ".py",
   "mimetype": "text/x-python",
   "name": "python",
   "nbconvert_exporter": "python",
   "pygments_lexer": "ipython2",
   "version": "2.7.6"
  }
 },
 "nbformat": 4,
 "nbformat_minor": 0
}